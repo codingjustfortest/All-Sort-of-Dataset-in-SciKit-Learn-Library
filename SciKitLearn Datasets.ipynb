{
 "cells": [
  {
   "cell_type": "code",
   "execution_count": 11,
   "id": "77ba0b2b-ce00-4163-8d1a-e5abc93bb40b",
   "metadata": {},
   "outputs": [],
   "source": [
    "import numpy as np\n",
    "import matplotlib.pyplot as plt\n",
    "%matplotlib inline\n",
    "\n",
    "#sklearn\n",
    "from sklearn.datasets import load_iris\n",
    "from sklearn.datasets import fetch_openml\n",
    "from sklearn.datasets import make_regression\n",
    "from sklearn.linear_model import HuberRegressor, Ridge\n",
    "from sklearn.datasets import make_classification\n",
    "from sklearn.datasets import make_blobs\n",
    "from sklearn.datasets import make_gaussian_quantiles"
   ]
  },
  {
   "cell_type": "markdown",
   "id": "199521e9-951e-4e2e-997c-d755ff477543",
   "metadata": {},
   "source": [
    "# SKlearn (Dataset loading utilities)\n",
    "\n",
    "The `sklearn.datasets` package includes:\n",
    "\n",
    "* some small toy datasets\n",
    "* larger datasets commonly used by the machine learning community to benchmark algorithms on data that comes from the 'real world'.\n",
    "\n",
    "To evaluate the impact of the scale of the dataset (`n_samples` and `n_features`) while controlling the statistical properties of the data (typically the correlation and informativeness of the features), it is also possible to generate synthetic data.\n"
   ]
  },
  {
   "cell_type": "markdown",
   "id": "d98b0872-fae2-450e-9baf-d97270491f70",
   "metadata": {},
   "source": [
    "# General Dataset API\n",
    "There are three main kinds of dataset interfaces that can be used to get datasets depending on the desired type of dataset.\n",
    "\n",
    "*   The dataset **loaders**: to load small standard datasets\n",
    "*   The dataset **fetchers**: to download and load larger datasets\n",
    "*   The dataset **generation functions**: to generate controlled synthetic datasets\n",
    "\n"
   ]
  },
  {
   "cell_type": "markdown",
   "id": "fa95edfb-732c-40d0-8fcc-c3f711d61151",
   "metadata": {},
   "source": [
    "**Tip**: These functions return a tuple (X, y) consisting of a n_samples * n_features numpy array X and an array of length n_samples containing the targets y.\n"
   ]
  },
  {
   "cell_type": "markdown",
   "id": "bd0f9cdb-84d7-40e1-a313-0af963e5f98b",
   "metadata": {},
   "source": [
    "## Loaders (Toy datasets)\n",
    "- Boston house prices dataset\n",
    "- Iris plants dataset\n",
    "- Diabetes dataset\n",
    "- Optical recognition of handwritten digits dataset\n",
    "- Linnerrud dataset (twenty middle-aged men in a fitness club)\n",
    "- Wine recognition dataset\n",
    "- Breast cancer wisconsin (diagnostic) dataset"
   ]
  },
  {
   "cell_type": "markdown",
   "id": "2a02f04e-e452-44b5-a4cd-d683738f01d4",
   "metadata": {},
   "source": [
    "## Fetchers (Real world datasets)\n",
    "- The Olivetti faces dataset\n",
    "- The 20 newsgroups text dataset\n",
    "- The Labeled Faces in the Wild face recognition dataset\n",
    "- Forest covertypes\n",
    "- RCV1 dataset\n",
    "- Kddcup 99 dataset\n",
    "- California Housing dataset"
   ]
  },
  {
   "cell_type": "markdown",
   "id": "74dbf862-e2a2-49b0-8269-b31478c2c320",
   "metadata": {},
   "source": [
    "## Generated datasets\n",
    "- Generators for classification and clustering\n",
    "- Generators for regression\n",
    "- Generators for manifold learning\n",
    "- Generators for decomposition"
   ]
  },
  {
   "cell_type": "markdown",
   "id": "18620739-b94b-4598-8a64-99176951a6d7",
   "metadata": {},
   "source": [
    "### Fetchers Dataset example\n",
    "#### MNIST Dataset (Using Fetchers)\n",
    "The MNIST dataset is a large database of handwritten digits.\n",
    "\n",
    "*   MNSIT dataset is publicly available.\n",
    "*   The data requires little to no processing before using.\n",
    "*   It is a voluminous dataset.\n",
    "\n",
    "\n",
    "MNIST contains a collection of 70,000, 28 x 28 images of handwritten digits from 0 to 9.\n",
    "The sklearn.datasets package is able to directly download data sets from the repository using `openml` method."
   ]
  },
  {
   "cell_type": "code",
   "execution_count": 13,
   "id": "d711289e-c8e6-4776-8789-0f806d1630ea",
   "metadata": {},
   "outputs": [
    {
     "name": "stdout",
     "output_type": "stream",
     "text": [
      "(70000, 784) (70000,)\n",
      "10\n"
     ]
    }
   ],
   "source": [
    "X, y = fetch_openml('mnist_784', version=1, return_X_y=True, as_frame=False)\n",
    "print(X.shape, y.shape)\n",
    "np.unique(y)\n",
    "no_classes = len(np.unique(y))\n",
    "print(no_classes)"
   ]
  },
  {
   "cell_type": "code",
   "execution_count": 14,
   "id": "bc63f4c4-9454-4a96-8d5a-9567cde3c06e",
   "metadata": {},
   "outputs": [
    {
     "data": {
      "image/png": "[encoded data removed]",
      "text/plain": [
       "<Figure size 640x480 with 1 Axes>"
      ]
     },
     "metadata": {},
     "output_type": "display_data"
    }
   ],
   "source": [
    "# pick a sample to plot\n",
    "sample = 42\n",
    "label = y[sample]\n",
    "image = X[sample].reshape(28, 28)   # plot the sample\n",
    "fig = plt.figure\n",
    "plt.imshow(image, cmap='gray')\n",
    "plt.title('label: ' + label)\n",
    "plt.show()"
   ]
  },
  {
   "cell_type": "code",
   "execution_count": null,
   "id": "54b1f340-e165-4bc1-a186-bfbf04e51ac7",
   "metadata": {},
   "outputs": [],
   "source": []
  }
 ],
 "metadata": {
  "kernelspec": {
   "display_name": "Python 3 (ipykernel)",
   "language": "python",
   "name": "python3"
  },
  "language_info": {
   "codemirror_mode": {
    "name": "ipython",
    "version": 3
   },
   "file_extension": ".py",
   "mimetype": "text/x-python",
   "name": "python",
   "nbconvert_exporter": "python",
   "pygments_lexer": "ipython3",
   "version": "3.10.12"
  }
 },
 "nbformat": 4,
 "nbformat_minor": 5
}
